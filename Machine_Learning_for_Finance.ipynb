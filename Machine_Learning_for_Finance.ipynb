{
 "cells": [
  {
   "cell_type": "code",
   "execution_count": 94,
   "metadata": {},
   "outputs": [],
   "source": [
    "import os\n",
    "import pandas as pd\n",
    "import matplotlib.pyplot as plt"
   ]
  },
  {
   "cell_type": "code",
   "execution_count": 95,
   "metadata": {},
   "outputs": [],
   "source": [
    "def get_max_price(symbol):\n",
    "    tb=pd.read_csv(\"daily/table_{}.csv\".format(symbol),names=[\"date\",\"sm1\",\"open\",\"high\",\"low\",\"close\",\"volume\"])\n",
    "    return tb[\"close\"].mean(),"
   ]
  },
  {
   "cell_type": "code",
   "execution_count": 101,
   "metadata": {},
   "outputs": [],
   "source": [
    "def plot_historical(symbol):\n",
    "    df=pd.read_csv(symbol_to_path(symbol),\n",
    "                   names=[\"date\",\"sm1\",\"open\",\"high\",\"low\",\"close\",\"volume\"])\n",
    "    print(df[[\"high\",\"low\"]].head())\n",
    "    df[[\"high\",\"low\"]].plot()\n",
    "    plt.show()"
   ]
  },
  {
   "cell_type": "code",
   "execution_count": 97,
   "metadata": {},
   "outputs": [],
   "source": [
    "def symbol_to_path(symbol, base_dir=\"data\"):\n",
    "    return os.path.join(base_dir,\"table_{}.csv\".format(str(symbol)))"
   ]
  },
  {
   "cell_type": "code",
   "execution_count": 132,
   "metadata": {},
   "outputs": [],
   "source": [
    "def get_base_dataframe(dates):\n",
    "    df1=pd.DataFrame(index=dates)\n",
    "    dfSPY=pd.read_csv(symbol_to_path(\"aapl\"),\n",
    "                      names=[\"date\",\"sm1\",\"open\",\"high\",\"low\",\"close\",\"volume\"],\n",
    "                      usecols=[\"date\",\"close\"],\n",
    "                      index_col=\"date\",\n",
    "                      na_values=['nan'],\n",
    "                      parse_dates=True)\n",
    "    dfSPY=dfSPY.rename(columns={'close':'spy'})\n",
    "    df1=df1.join(dfSPY,how='inner')\n",
    "    return df1"
   ]
  },
  {
   "cell_type": "code",
   "execution_count": 133,
   "metadata": {},
   "outputs": [],
   "source": [
    "def get_data(symbols,dates):\n",
    "    df1=get_base_dataframe(dates)\n",
    "    for symbol in symbols:\n",
    "        df_temp=pd.read_csv(symbol_to_path(symbol),\n",
    "                          names=[\"date\",\"sm1\",\"open\",\"high\",\"low\",\"close\",\"volume\"],\n",
    "                          usecols=[\"date\",\"close\"],\n",
    "                          index_col=\"date\",\n",
    "                          na_values=['nan'],\n",
    "                          parse_dates=True)\n",
    "        df_temp = df_temp.rename(columns={'close':symbol})\n",
    "        df1=df1.join(df_temp)\n",
    "    return df1"
   ]
  },
  {
   "cell_type": "code",
   "execution_count": 120,
   "metadata": {},
   "outputs": [],
   "source": [
    "def plot_data(df,title=\"Stock prices\"):\n",
    "    ax = df.plot(title=title, fontsize=14)\n",
    "    ax.set_xlabel(\"Date\")\n",
    "    ax.set_ylabel(\"Price\")\n",
    "    plt.show()"
   ]
  },
  {
   "cell_type": "code",
   "execution_count": 137,
   "metadata": {},
   "outputs": [],
   "source": [
    "def plot_selected(df,symbols,start,end):\n",
    "    df1=df.ix[start:end,symbols]\n",
    "    ax = df1.plot(title=\"Plot Selected\", fontsize=14)\n",
    "    ax.set_xlabel(\"Date\")\n",
    "    ax.set_ylabel(\"Price\")\n",
    "    plt.show()"
   ]
  },
  {
   "cell_type": "code",
   "execution_count": 144,
   "metadata": {},
   "outputs": [],
   "source": [
    "start='2006-03-01'\n",
    "end='2016-04-01'\n",
    "dates=pd.date_range(start,end)\n",
    "get_data(['ibm','goog'],dates)\n",
    "plot_selected(df1,['ibm','goog'],start,end)"
   ]
  },
  {
   "cell_type": "code",
   "execution_count": 103,
   "metadata": {},
   "outputs": [
    {
     "name": "stdout",
     "output_type": "stream",
     "text": [
      "aapl\n",
      "      high      low\n",
      "0  3.95098  3.28236\n",
      "1  4.02635  3.69325\n",
      "2  4.98432  3.58628\n",
      "3  4.68040  4.20871\n",
      "4  4.52965  4.11875\n",
      "ibm\n",
      "      high      low\n",
      "0  43.9614  43.2834\n",
      "1  44.4272  43.6744\n",
      "2  44.5853  43.7784\n",
      "3  43.6744  42.6886\n",
      "4  43.8823  42.8176\n"
     ]
    }
   ],
   "source": [
    "for symbol in [\"aapl\",\"ibm\"]:\n",
    "    print(symbol)\n",
    "    plot_historical(symbol)"
   ]
  },
  {
   "cell_type": "code",
   "execution_count": 10,
   "metadata": {},
   "outputs": [],
   "source": [
    "tb=pd.read_csv(\"daily/table_{}.csv\".format(\"aapl\"))"
   ]
  },
  {
   "cell_type": "code",
   "execution_count": 147,
   "metadata": {},
   "outputs": [],
   "source": [
    "import numpy as np"
   ]
  },
  {
   "cell_type": "code",
   "execution_count": 163,
   "metadata": {},
   "outputs": [
    {
     "name": "stdout",
     "output_type": "stream",
     "text": [
      "[[[0 0]\n",
      "  [0 0]\n",
      "  [0 0]]\n",
      "\n",
      " [[0 0]\n",
      "  [0 0]\n",
      "  [0 0]]\n",
      "\n",
      " [[0 0]\n",
      "  [0 0]\n",
      "  [0 0]]\n",
      "\n",
      " [[0 0]\n",
      "  [0 0]\n",
      "  [0 0]]]\n"
     ]
    }
   ],
   "source": [
    "print(np.zeros((4,3,2),dtype=np.int))"
   ]
  }
 ],
 "metadata": {
  "kernelspec": {
   "display_name": "Python 3",
   "language": "python",
   "name": "python3"
  },
  "language_info": {
   "codemirror_mode": {
    "name": "ipython",
    "version": 3.0
   },
   "file_extension": ".py",
   "mimetype": "text/x-python",
   "name": "python",
   "nbconvert_exporter": "python",
   "pygments_lexer": "ipython3",
   "version": "3.4.3"
  }
 },
 "nbformat": 4,
 "nbformat_minor": 0
}